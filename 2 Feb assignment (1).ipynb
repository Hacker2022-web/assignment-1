{
 "cells": [
  {
   "cell_type": "code",
   "execution_count": 1,
   "id": "cb022db6-306f-4c1b-9768-e8f148a3ae35",
   "metadata": {},
   "outputs": [
    {
     "data": {
      "text/plain": [
       "' The for loop is used when we already know the number of iterations, which means when we know how many times a statement has to be executed. That is why we have to specify the ending point in the for loop initialization.\\n\\nWhen we need to end the loop on a condition other than the number of times, we use a while loop.'"
      ]
     },
     "execution_count": 1,
     "metadata": {},
     "output_type": "execute_result"
    }
   ],
   "source": [
    "# Explain with an example each when to use a for loop and a while loop.\n",
    "''' The for loop is used when we already know the number of iterations, which means when we know how many times a statement has to be executed. That is why we have to specify the ending point in the for loop initialization.\n",
    "\n",
    "When we need to end the loop on a condition other than the number of times, we use a while loop.'''"
   ]
  },
  {
   "cell_type": "code",
   "execution_count": 2,
   "id": "ecb3df84-7405-4ac8-b4d8-e12e08dc381e",
   "metadata": {},
   "outputs": [
    {
     "name": "stdin",
     "output_type": "stream",
     "text": [
      " 50\n"
     ]
    },
    {
     "name": "stdout",
     "output_type": "stream",
     "text": [
      "50 x 1 = 50\n",
      "50 x 2 = 100\n",
      "50 x 3 = 150\n",
      "50 x 4 = 200\n",
      "50 x 5 = 250\n",
      "50 x 6 = 300\n",
      "50 x 7 = 350\n",
      "50 x 8 = 400\n",
      "50 x 9 = 450\n",
      "50 x 10 = 500\n"
     ]
    }
   ],
   "source": [
    "# example of while loop\n",
    "n = int(input())\n",
    "i = 1\n",
    "while i <=10:\n",
    "    result = i*n\n",
    "    print(n,\"x\",i,\"=\",result)\n",
    "    i = i + 1"
   ]
  },
  {
   "cell_type": "code",
   "execution_count": 3,
   "id": "c65df0b4-aa39-4de6-a3ac-aaf228b81628",
   "metadata": {},
   "outputs": [
    {
     "name": "stdin",
     "output_type": "stream",
     "text": [
      " 50\n"
     ]
    },
    {
     "name": "stdout",
     "output_type": "stream",
     "text": [
      "50 x 1 = 50\n",
      "50 x 2 = 100\n",
      "50 x 3 = 150\n",
      "50 x 4 = 200\n",
      "50 x 5 = 250\n",
      "50 x 6 = 300\n",
      "50 x 7 = 350\n",
      "50 x 8 = 400\n",
      "50 x 9 = 450\n",
      "50 x 10 = 500\n"
     ]
    }
   ],
   "source": [
    "#example of for loop\n",
    "n = int(input())\n",
    "for i in range(1,11):\n",
    "    result = i*n\n",
    "    print(n,\"x\",i,\"=\",result)"
   ]
  },
  {
   "cell_type": "code",
   "execution_count": 4,
   "id": "1a23258f-6d1f-41d5-af29-a8af0e9b2253",
   "metadata": {},
   "outputs": [
    {
     "name": "stdin",
     "output_type": "stream",
     "text": [
      "Enter the Value of n: 10\n"
     ]
    },
    {
     "name": "stdout",
     "output_type": "stream",
     "text": [
      "Sum = 55\n"
     ]
    }
   ],
   "source": [
    "'''Write a python program to print the sum and product of the first 10 natural numbers using for\n",
    "and while loop.'''\n",
    "# while loop\n",
    "n = int(input(\"Enter the Value of n:\"))\n",
    "\n",
    "sum = 0\n",
    "i = 1\n",
    "while i<=n:\n",
    "    sum = sum+i\n",
    "    i = i+1\n",
    "\n",
    "print(\"Sum =\", sum)\n",
    "    "
   ]
  },
  {
   "cell_type": "code",
   "execution_count": 5,
   "id": "21afc6cf-f3c2-4d9e-9e27-9bfb4e7c0b71",
   "metadata": {},
   "outputs": [
    {
     "name": "stdin",
     "output_type": "stream",
     "text": [
      "enter till which natural number to be some 10\n"
     ]
    },
    {
     "name": "stdout",
     "output_type": "stream",
     "text": [
      "the sum till natural number 10 = 55\n"
     ]
    }
   ],
   "source": [
    "# for loop\n",
    "sum = 0 \n",
    "n = int(input(\"enter till which natural number to be some\"))\n",
    "l = 1\n",
    "for i in range(l,n+1):\n",
    "    sum = sum + i\n",
    "print(\"the sum till natural number\",n,\"=\",sum)"
   ]
  },
  {
   "cell_type": "code",
   "execution_count": 6,
   "id": "9ebc6d2b-ebab-4714-85b3-fe246f10454d",
   "metadata": {},
   "outputs": [
    {
     "name": "stdin",
     "output_type": "stream",
     "text": [
      "enter how much unite you have consumed in month =  310\n"
     ]
    },
    {
     "name": "stdout",
     "output_type": "stream",
     "text": [
      "your electricity bill = Rs. 2250\n"
     ]
    }
   ],
   "source": [
    "'''Q3. Create a python program to compute the electricity bill for a household.\n",
    "The per-unit charges in rupees are as follows: For the first 100 units, the user will be charged Rs. 4.5 per\n",
    "unit, for the next 100 units, the user will be charged Rs. 6 per unit, and for the next 100 units, the user will\n",
    "be charged Rs. 10 per unit, After 300 units and above the user will be charged Rs. 20 per unit. '''\n",
    "n = int(input(\"enter how much unite you have consumed in month = \"))\n",
    "if n <= 100:\n",
    "    print(\"your electricity bill = Rs.\",4.5*n)\n",
    "elif n<=200: \n",
    "    result = (n - 100) \n",
    "    print(\"your electricity bill = Rs.\",6*result+450)    \n",
    "elif n<=300:\n",
    "    result1 = (n - 200)\n",
    "    print(\"your electricity bill = Rs.\",10*result1+ 450 + 600)\n",
    "else:\n",
    "    result2 = (n - 300)\n",
    "    print(\"your electricity bill = Rs.\",20*result2 + 450 + 600 + 1000)"
   ]
  },
  {
   "cell_type": "code",
   "execution_count": 7,
   "id": "5b01149b-63d1-40ef-b90e-dcacfdbf14be",
   "metadata": {},
   "outputs": [
    {
     "name": "stdout",
     "output_type": "stream",
     "text": [
      "[8, 64, 125, 216, 512, 1000, 1728, 2744, 3375, 4096, 5832, 8000, 10648, 13824, 15625, 17576, 21952, 27000, 32768, 39304, 42875, 46656, 54872, 64000, 74088, 85184, 91125, 97336, 110592, 125000, 140608, 157464, 166375, 175616, 195112, 216000, 238328, 262144, 274625, 287496, 314432, 343000, 373248, 405224, 421875, 438976, 474552, 512000, 551368, 592704, 614125, 636056, 681472, 729000, 778688, 830584, 857375, 884736, 941192, 1000000]\n"
     ]
    }
   ],
   "source": [
    "'''Create a list of numbers from 1 to 100. Use for loop and while loop to calculate the cube of each\n",
    "number and if the cube of that number is divisible by 4 or 5 then append that number in a list and print\n",
    "that list. '''\n",
    "#for loop\n",
    "l = []\n",
    "for i in range(1,101):\n",
    "    cube = i**3\n",
    "    if (cube % 4 == 0) or (cube % 5 == 0):\n",
    "        l.append(cube)\n",
    "print(l)"
   ]
  },
  {
   "cell_type": "code",
   "execution_count": 8,
   "id": "099cca8e-565f-42a5-9026-52150aa01f53",
   "metadata": {},
   "outputs": [
    {
     "name": "stdout",
     "output_type": "stream",
     "text": [
      "[8, 64, 125, 216, 512, 1000, 1728, 2744, 3375, 4096, 5832, 8000, 10648, 13824, 15625, 17576, 21952, 27000, 32768, 39304, 42875, 46656, 54872, 64000, 74088, 85184, 91125, 97336, 110592, 125000, 140608, 157464, 166375, 175616, 195112, 216000, 238328, 262144, 274625, 287496, 314432, 343000, 373248, 405224, 421875, 438976, 474552, 512000, 551368, 592704, 614125, 636056, 681472, 729000, 778688, 830584, 857375, 884736, 941192, 1000000]\n"
     ]
    }
   ],
   "source": [
    "#while loop\n",
    "result = []\n",
    "i =1\n",
    "while i <= 100:\n",
    "    cube = i**3\n",
    "    if cube%4 == 0 or cube%5 == 0:\n",
    "        result.append(cube)\n",
    "    i = i + 1\n",
    "print(result)"
   ]
  },
  {
   "cell_type": "code",
   "execution_count": 9,
   "id": "f0739007-df0d-4541-94fb-e257ae2031ac",
   "metadata": {},
   "outputs": [
    {
     "name": "stdout",
     "output_type": "stream",
     "text": [
      "number of vowles in this string is =  12\n"
     ]
    }
   ],
   "source": [
    "'''' Q5. Write a program to filter count vowels in the below-given string.\n",
    " '''\n",
    "string = \"I want to become a data scientist\"\n",
    "l = ['a','e','i','o','u','A','E','I','O','U']\n",
    "count = 0\n",
    "for i in string:\n",
    "    if i in l:\n",
    "        count = count + 1\n",
    "print(\"number of vowles in this string is = \" ,count)"
   ]
  },
  {
   "cell_type": "code",
   "execution_count": null,
   "id": "3fa2e3f6-13e1-491f-b13a-a42953235b5d",
   "metadata": {},
   "outputs": [],
   "source": []
  }
 ],
 "metadata": {
  "kernelspec": {
   "display_name": "Python 3 (ipykernel)",
   "language": "python",
   "name": "python3"
  },
  "language_info": {
   "codemirror_mode": {
    "name": "ipython",
    "version": 3
   },
   "file_extension": ".py",
   "mimetype": "text/x-python",
   "name": "python",
   "nbconvert_exporter": "python",
   "pygments_lexer": "ipython3",
   "version": "3.10.6"
  }
 },
 "nbformat": 4,
 "nbformat_minor": 5
}
